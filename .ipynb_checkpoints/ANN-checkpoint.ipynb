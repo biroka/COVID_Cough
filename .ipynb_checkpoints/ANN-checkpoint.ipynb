{
 "cells": [
  {
   "cell_type": "code",
   "execution_count": 1,
   "metadata": {},
   "outputs": [],
   "source": [
    "#imports \n",
    "import pandas as pd \n",
    "import numpy as np\n",
    "import matplotlib.pyplot as plt\n",
    "\n",
    "#sklearn\n",
    "from sklearn.model_selection import train_test_split\n",
    "from sklearn.metrics import classification_report, confusion_matrix\n",
    "from sklearn.preprocessing import LabelEncoder, StandardScaler\n",
    "\n",
    "#keras\n",
    "import keras\n",
    "from keras import layers \n",
    "from keras.models import Sequential "
   ]
  },
  {
   "cell_type": "markdown",
   "metadata": {},
   "source": [
    "## Preparing data for ANN"
   ]
  },
  {
   "cell_type": "code",
   "execution_count": 2,
   "metadata": {},
   "outputs": [],
   "source": [
    "#loading the dataset we created \n",
    "df = pd.read_csv(\"covid_dataset.csv\")\n",
    "\n",
    "#remove filename column \n",
    "df.drop([\"filename\"], axis=1, inplace=True)\n",
    "\n",
    "#remove the ID column as it does not provide any information \n",
    "df.drop([\"ID\"], axis=1, inplace=True)"
   ]
  },
  {
   "cell_type": "code",
   "execution_count": 3,
   "metadata": {},
   "outputs": [],
   "source": [
    "#mapping for the results \n",
    "map_dict = {\"positive\":1, \"negative\":0}\n",
    "\n",
    "#mapping the values of the dict \n",
    "df['label'] = df['label'].map(map_dict)"
   ]
  },
  {
   "cell_type": "code",
   "execution_count": 4,
   "metadata": {},
   "outputs": [],
   "source": [
    "#Shuffling the data set \n",
    "#since all the positives were first and negatives last\n",
    "shuffle_train_df = df.reindex(np.random.permutation(df.index))"
   ]
  },
  {
   "cell_type": "code",
   "execution_count": 5,
   "metadata": {},
   "outputs": [],
   "source": [
    "#labels\n",
    "y = shuffle_train_df['label'].to_numpy()\n",
    "\n",
    "#rest of data\n",
    "X = (shuffle_train_df.iloc[:, :-1]).to_numpy()"
   ]
  },
  {
   "cell_type": "code",
   "execution_count": 6,
   "metadata": {},
   "outputs": [],
   "source": [
    "#instantiate the Label Encoder \n",
    "le = LabelEncoder()\n",
    "\n",
    "#fit and transform the encoder \n",
    "y = le.fit_transform(y)\n",
    "\n",
    "#instantiate scaler \n",
    "stsc = StandardScaler()\n",
    "\n",
    "#fit transform scaler \n",
    "X = stsc.fit_transform(X)\n",
    "\n",
    "#separating the data \n",
    "X_train, X_test, y_train, y_test = train_test_split(X, y, test_size=0.3)"
   ]
  },
  {
   "cell_type": "markdown",
   "metadata": {},
   "source": [
    "## Building, compiling and fitting ANN"
   ]
  },
  {
   "cell_type": "code",
   "execution_count": 11,
   "metadata": {
    "scrolled": false
   },
   "outputs": [
    {
     "name": "stdout",
     "output_type": "stream",
     "text": [
      "Epoch 1/50\n",
      "6/6 [==============================] - 0s 29ms/step - loss: 1.9982 - accuracy: 0.4587 - val_loss: 1.2410 - val_accuracy: 0.9362\n",
      "Epoch 2/50\n",
      "6/6 [==============================] - 0s 8ms/step - loss: 0.9680 - accuracy: 0.9144 - val_loss: 0.4607 - val_accuracy: 0.9362\n",
      "Epoch 3/50\n",
      "6/6 [==============================] - 0s 9ms/step - loss: 0.4772 - accuracy: 0.9144 - val_loss: 0.3028 - val_accuracy: 0.9362\n",
      "Epoch 4/50\n",
      "6/6 [==============================] - 0s 8ms/step - loss: 0.3548 - accuracy: 0.9144 - val_loss: 0.2298 - val_accuracy: 0.9362\n",
      "Epoch 5/50\n",
      "6/6 [==============================] - 0s 9ms/step - loss: 0.2495 - accuracy: 0.9144 - val_loss: 0.1838 - val_accuracy: 0.9362\n",
      "Epoch 6/50\n",
      "6/6 [==============================] - 0s 9ms/step - loss: 0.1930 - accuracy: 0.9205 - val_loss: 0.1843 - val_accuracy: 0.9574\n",
      "Epoch 7/50\n",
      "6/6 [==============================] - 0s 9ms/step - loss: 0.1847 - accuracy: 0.9511 - val_loss: 0.1643 - val_accuracy: 0.9574\n",
      "Epoch 8/50\n",
      "6/6 [==============================] - 0s 8ms/step - loss: 0.1509 - accuracy: 0.9541 - val_loss: 0.1470 - val_accuracy: 0.9362\n",
      "Epoch 9/50\n",
      "6/6 [==============================] - 0s 7ms/step - loss: 0.1384 - accuracy: 0.9235 - val_loss: 0.1435 - val_accuracy: 0.9433\n",
      "Epoch 10/50\n",
      "6/6 [==============================] - 0s 8ms/step - loss: 0.1165 - accuracy: 0.9541 - val_loss: 0.1340 - val_accuracy: 0.9574\n",
      "Epoch 11/50\n",
      "6/6 [==============================] - 0s 7ms/step - loss: 0.1052 - accuracy: 0.9725 - val_loss: 0.1292 - val_accuracy: 0.9645\n",
      "Epoch 12/50\n",
      "6/6 [==============================] - 0s 8ms/step - loss: 0.0935 - accuracy: 0.9755 - val_loss: 0.1215 - val_accuracy: 0.9504\n",
      "Epoch 13/50\n",
      "6/6 [==============================] - 0s 8ms/step - loss: 0.0820 - accuracy: 0.9725 - val_loss: 0.1197 - val_accuracy: 0.9574\n",
      "Epoch 14/50\n",
      "6/6 [==============================] - 0s 9ms/step - loss: 0.0702 - accuracy: 0.9817 - val_loss: 0.1097 - val_accuracy: 0.9645\n",
      "Epoch 15/50\n",
      "6/6 [==============================] - 0s 9ms/step - loss: 0.0595 - accuracy: 0.9908 - val_loss: 0.1098 - val_accuracy: 0.9645\n",
      "Epoch 16/50\n",
      "6/6 [==============================] - 0s 8ms/step - loss: 0.0524 - accuracy: 0.9908 - val_loss: 0.1092 - val_accuracy: 0.9645\n",
      "Epoch 17/50\n",
      "6/6 [==============================] - 0s 10ms/step - loss: 0.0439 - accuracy: 0.9939 - val_loss: 0.1019 - val_accuracy: 0.9716\n",
      "Epoch 18/50\n",
      "6/6 [==============================] - 0s 8ms/step - loss: 0.0386 - accuracy: 0.9969 - val_loss: 0.1034 - val_accuracy: 0.9716\n",
      "Epoch 19/50\n",
      "6/6 [==============================] - 0s 8ms/step - loss: 0.0310 - accuracy: 0.9969 - val_loss: 0.1071 - val_accuracy: 0.9574\n",
      "Epoch 20/50\n",
      "6/6 [==============================] - 0s 7ms/step - loss: 0.0288 - accuracy: 0.9969 - val_loss: 0.1090 - val_accuracy: 0.9574\n",
      "Epoch 21/50\n",
      "6/6 [==============================] - 0s 7ms/step - loss: 0.0234 - accuracy: 0.9969 - val_loss: 0.0945 - val_accuracy: 0.9716\n",
      "Epoch 22/50\n",
      "6/6 [==============================] - 0s 8ms/step - loss: 0.0186 - accuracy: 0.9969 - val_loss: 0.0899 - val_accuracy: 0.9787\n",
      "Epoch 23/50\n",
      "6/6 [==============================] - 0s 7ms/step - loss: 0.0152 - accuracy: 0.9969 - val_loss: 0.0911 - val_accuracy: 0.9787\n",
      "Epoch 24/50\n",
      "6/6 [==============================] - 0s 10ms/step - loss: 0.0128 - accuracy: 0.9969 - val_loss: 0.0906 - val_accuracy: 0.9716\n",
      "Epoch 25/50\n",
      "6/6 [==============================] - 0s 10ms/step - loss: 0.0099 - accuracy: 0.9969 - val_loss: 0.0864 - val_accuracy: 0.9787\n",
      "Epoch 26/50\n",
      "6/6 [==============================] - 0s 9ms/step - loss: 0.0086 - accuracy: 1.0000 - val_loss: 0.0889 - val_accuracy: 0.9787\n",
      "Epoch 27/50\n",
      "6/6 [==============================] - 0s 9ms/step - loss: 0.0069 - accuracy: 1.0000 - val_loss: 0.0916 - val_accuracy: 0.9787\n",
      "Epoch 28/50\n",
      "6/6 [==============================] - 0s 8ms/step - loss: 0.0060 - accuracy: 1.0000 - val_loss: 0.0932 - val_accuracy: 0.9716\n",
      "Epoch 29/50\n",
      "6/6 [==============================] - 0s 8ms/step - loss: 0.0055 - accuracy: 1.0000 - val_loss: 0.1002 - val_accuracy: 0.9716\n",
      "Epoch 30/50\n",
      "6/6 [==============================] - 0s 7ms/step - loss: 0.0046 - accuracy: 1.0000 - val_loss: 0.0949 - val_accuracy: 0.9716\n",
      "Epoch 31/50\n",
      "6/6 [==============================] - 0s 7ms/step - loss: 0.0040 - accuracy: 1.0000 - val_loss: 0.0937 - val_accuracy: 0.9787\n",
      "Epoch 32/50\n",
      "6/6 [==============================] - 0s 7ms/step - loss: 0.0034 - accuracy: 1.0000 - val_loss: 0.0980 - val_accuracy: 0.9716\n",
      "Epoch 33/50\n",
      "6/6 [==============================] - 0s 7ms/step - loss: 0.0030 - accuracy: 1.0000 - val_loss: 0.1101 - val_accuracy: 0.9716\n",
      "Epoch 34/50\n",
      "6/6 [==============================] - 0s 7ms/step - loss: 0.0028 - accuracy: 1.0000 - val_loss: 0.1086 - val_accuracy: 0.9716\n",
      "Epoch 35/50\n",
      "6/6 [==============================] - 0s 9ms/step - loss: 0.0022 - accuracy: 1.0000 - val_loss: 0.1041 - val_accuracy: 0.9716\n",
      "Epoch 36/50\n",
      "6/6 [==============================] - 0s 8ms/step - loss: 0.0022 - accuracy: 1.0000 - val_loss: 0.1066 - val_accuracy: 0.9716\n",
      "Epoch 37/50\n",
      "6/6 [==============================] - 0s 9ms/step - loss: 0.0019 - accuracy: 1.0000 - val_loss: 0.1066 - val_accuracy: 0.9787\n",
      "Epoch 38/50\n",
      "6/6 [==============================] - 0s 9ms/step - loss: 0.0017 - accuracy: 1.0000 - val_loss: 0.1079 - val_accuracy: 0.9716\n",
      "Epoch 39/50\n",
      "6/6 [==============================] - 0s 14ms/step - loss: 0.0015 - accuracy: 1.0000 - val_loss: 0.1116 - val_accuracy: 0.9716\n",
      "Epoch 40/50\n",
      "6/6 [==============================] - 0s 12ms/step - loss: 0.0015 - accuracy: 1.0000 - val_loss: 0.1104 - val_accuracy: 0.9716\n",
      "Epoch 41/50\n",
      "6/6 [==============================] - 0s 8ms/step - loss: 0.0013 - accuracy: 1.0000 - val_loss: 0.1054 - val_accuracy: 0.9716\n",
      "Epoch 42/50\n",
      "6/6 [==============================] - 0s 8ms/step - loss: 0.0011 - accuracy: 1.0000 - val_loss: 0.1001 - val_accuracy: 0.9787\n",
      "Epoch 43/50\n",
      "6/6 [==============================] - 0s 8ms/step - loss: 0.0011 - accuracy: 1.0000 - val_loss: 0.0991 - val_accuracy: 0.9787\n",
      "Epoch 44/50\n",
      "6/6 [==============================] - 0s 9ms/step - loss: 9.6793e-04 - accuracy: 1.0000 - val_loss: 0.0990 - val_accuracy: 0.9787\n",
      "Epoch 45/50\n",
      "6/6 [==============================] - 0s 8ms/step - loss: 8.6098e-04 - accuracy: 1.0000 - val_loss: 0.1016 - val_accuracy: 0.9787\n",
      "Epoch 46/50\n",
      "6/6 [==============================] - 0s 9ms/step - loss: 7.9031e-04 - accuracy: 1.0000 - val_loss: 0.1034 - val_accuracy: 0.9787\n",
      "Epoch 47/50\n",
      "6/6 [==============================] - 0s 10ms/step - loss: 7.4297e-04 - accuracy: 1.0000 - val_loss: 0.1040 - val_accuracy: 0.9787\n",
      "Epoch 48/50\n",
      "6/6 [==============================] - 0s 9ms/step - loss: 6.7019e-04 - accuracy: 1.0000 - val_loss: 0.1020 - val_accuracy: 0.9787\n",
      "Epoch 49/50\n",
      "6/6 [==============================] - 0s 9ms/step - loss: 6.0404e-04 - accuracy: 1.0000 - val_loss: 0.1002 - val_accuracy: 0.9787\n",
      "Epoch 50/50\n",
      "6/6 [==============================] - 0s 10ms/step - loss: 5.7431e-04 - accuracy: 1.0000 - val_loss: 0.1004 - val_accuracy: 0.9787\n"
     ]
    }
   ],
   "source": [
    "#Building the ANN Model \n",
    "#ANN -> Artificial Neural Net \n",
    "\n",
    "#initialize a sequential model \n",
    "model = Sequential()\n",
    "model.add(layers.Dense(256, activation='relu', input_shape=(X_train.shape[1],)))\n",
    "model.add(layers.Dense(128, activation='relu'))\n",
    "model.add(layers.Dense(64, activation='relu'))\n",
    "model.add(layers.Dense(10, activation='softmax'))\n",
    "\n",
    "#compiling \n",
    "model.compile(optimizer='adam', \n",
    "              loss = 'sparse_categorical_crossentropy', \n",
    "              metrics = ['accuracy'])\n",
    "\n",
    "#fitting\n",
    "clf = model.fit(X_train, \n",
    "                y_train, \n",
    "                epochs=50, \n",
    "                batch_size=64, \n",
    "                validation_data=(X_test, y_test))"
   ]
  },
  {
   "cell_type": "markdown",
   "metadata": {},
   "source": [
    "## Evaluating ANN"
   ]
  },
  {
   "cell_type": "code",
   "execution_count": 12,
   "metadata": {},
   "outputs": [
    {
     "name": "stdout",
     "output_type": "stream",
     "text": [
      "9/9 [==============================] - 0s 3ms/step - loss: 0.1004 - accuracy: 0.9787\n"
     ]
    }
   ],
   "source": [
    "score = model.evaluate(X_test, \n",
    "                       y_test, \n",
    "                      batch_size=16,\n",
    "                      steps=9)"
   ]
  },
  {
   "cell_type": "code",
   "execution_count": 13,
   "metadata": {},
   "outputs": [],
   "source": [
    "y_pred = model.predict_classes(X_test)\n",
    "cm = confusion_matrix(y_test, y_pred)\n",
    "def plot_confusion_matrix(cm):\n",
    "    plt.figure()\n",
    "    plt.imshow(cm, interpolation='nearest', cmap=plt.cm.Blues)\n",
    "    classNames = ['Negative','Positive']\n",
    "    plt.title('COVID-19 Confusion Matrix')\n",
    "    plt.ylabel('True label')\n",
    "    plt.xlabel('Predicted label')\n",
    "    tick_marks = np.arange(len(classNames))\n",
    "    plt.xticks(tick_marks, classNames, rotation=45)\n",
    "    plt.yticks(tick_marks, classNames)\n",
    "    s = [['TN','FP'], ['FN', 'TP']]\n",
    "    for i in range(2):\n",
    "        for j in range(2):\n",
    "            plt.text(j,i, str(s[i][j])+\" = \"+str(cm[i][j]))\n",
    "    plt.savefig(\"./img/Fig6_Confusion_Matrix_50_epochs.png\")\n",
    "    plt.show()"
   ]
  },
  {
   "cell_type": "code",
   "execution_count": 14,
   "metadata": {},
   "outputs": [
    {
     "data": {
      "image/png": "[encoded data removed]",
      "text/plain": [
       "<Figure size 432x288 with 1 Axes>"
      ]
     },
     "metadata": {
      "needs_background": "light"
     },
     "output_type": "display_data"
    },
    {
     "data": {
      "image/png": "[encoded data removed]",
      "text/plain": [
       "<Figure size 432x288 with 1 Axes>"
      ]
     },
     "metadata": {
      "needs_background": "light"
     },
     "output_type": "display_data"
    },
    {
     "name": "stdout",
     "output_type": "stream",
     "text": [
      "\n",
      " **Confusion Matrix**\n",
      "\n"
     ]
    },
    {
     "data": {
      "image/png": "[encoded data removed]",
      "text/plain": [
       "<Figure size 432x288 with 1 Axes>"
      ]
     },
     "metadata": {
      "needs_background": "light"
     },
     "output_type": "display_data"
    },
    {
     "name": "stdout",
     "output_type": "stream",
     "text": [
      "\n",
      " **Classification Report**\n",
      "\n",
      "              precision    recall  f1-score   support\n",
      "\n",
      "           0       0.88      0.78      0.82         9\n",
      "           1       0.98      0.99      0.99       132\n",
      "\n",
      "    accuracy                           0.98       141\n",
      "   macro avg       0.93      0.89      0.91       141\n",
      "weighted avg       0.98      0.98      0.98       141\n",
      "\n"
     ]
    }
   ],
   "source": [
    "def plot_loss_accuracy(clf):\n",
    "    loss_clf = clf.history['loss']\n",
    "    acc_clf = clf.history['accuracy']\n",
    "    epoch_range = list(range(1, 51))\n",
    "\n",
    "    plt.figure()\n",
    "    plt.plot(epoch_range, loss_clf)\n",
    "    plt.title(f\"Loss for {len(epoch_range)} Epochs\")\n",
    "    plt.xlabel(\"Epochs\")\n",
    "    plt.ylabel(\"Loss\")\n",
    "    plt.savefig(\"./img/Fig4_Loss_Per_50_Epochs.png\")\n",
    "\n",
    "\n",
    "    plt.figure()\n",
    "    plt.plot(epoch_range, acc_clf)\n",
    "    plt.title(f\"Accuracy {len(epoch_range)} Epochs\")\n",
    "    plt.xlabel(\"Epochs\")\n",
    "    plt.ylabel(\"Accuracy\")\n",
    "    plt.savefig(\"./img/Fig5_Accuracy_per_50_epochs.png\")\n",
    "    plt.show()\n",
    "    \n",
    "    y_pred = model.predict_classes(X_test)\n",
    "    print(\"\\n **Confusion Matrix**\\n\")\n",
    "    #print(confusion_matrix(y_test, y_pred))\n",
    "    plot_confusion_matrix(cm)\n",
    "    print(\"\\n **Classification Report**\\n\")\n",
    "    print(classification_report(y_test, y_pred))\n",
    "\n",
    "plot_loss_accuracy(clf)    "
   ]
  },
  {
   "cell_type": "code",
   "execution_count": null,
   "metadata": {},
   "outputs": [],
   "source": []
  }
 ],
 "metadata": {
  "kernelspec": {
   "display_name": "Python 3",
   "language": "python",
   "name": "python3"
  },
  "language_info": {
   "codemirror_mode": {
    "name": "ipython",
    "version": 3
   },
   "file_extension": ".py",
   "mimetype": "text/x-python",
   "name": "python",
   "nbconvert_exporter": "python",
   "pygments_lexer": "ipython3",
   "version": "3.8.5"
  }
 },
 "nbformat": 4,
 "nbformat_minor": 4
}

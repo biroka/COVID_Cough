{
 "cells": [
  {
   "cell_type": "code",
   "execution_count": null,
   "metadata": {},
   "outputs": [],
   "source": [
    "#importing libraries \n",
    "import os\n",
    "import librosa\n",
    "import matplotlib.pyplot as plt\n",
    "import seaborn as sns\n",
    "import pandas as pd\n",
    "import pathlib\n",
    "import sklearn\n",
    "import csv\n",
    "import numpy as np"
   ]
  },
  {
   "cell_type": "code",
   "execution_count": null,
   "metadata": {},
   "outputs": [],
   "source": [
    "#EASY MODIFICATIONS \n",
    "POS_PATH = r\"data/positive\"\n",
    "NEG_PATH = r\"data/negative\"\n",
    "BASE_PATH = r\"/Users/Eric/Documents/Python/Projects/ML/COVID_Cough/data/\""
   ]
  },
  {
   "cell_type": "code",
   "execution_count": null,
   "metadata": {},
   "outputs": [],
   "source": [
    "#function for defining our data \n",
    "\n",
    "def prep_organize_data(): \n",
    "\n",
    "    #our data :-> Positive \n",
    "    pos_files = os.listdir(POS_PATH)\n",
    "    base_path_pos = BASE_PATH + 'positive/'\n",
    "    pos_data = [base_path_pos+x for x in pos_files]\n",
    "\n",
    "    #our data :-> Negative\n",
    "    neg_files = os.listdir(NEG_PATH)\n",
    "    base_path_neg = BASE_PATH + 'negative/'\n",
    "    neg_data = [base_path_neg+x for x in neg_files]\n",
    "\n",
    "    #number of samples \n",
    "    tot_samples = len(neg_data) + len(pos_data)\n",
    "\n",
    "    #fraction of samples \n",
    "    frac_pos = ((len(pos_data) / tot_samples)*100)\n",
    "    frac_neg = ((len(neg_data) / tot_samples)*100)\n",
    "    \n",
    "\n",
    "    print(f\"Number of Negative samples: {len(neg_data)} ({frac_neg:.2f}%)\")\n",
    "    print(f\"Number of Positive samples: {len(pos_data)} ({frac_pos:.2f}%)\\n\")\n",
    "    print(f\"**** Total samples: {tot_samples} ****\")\n",
    "    \n",
    "    return pos_files, pos_data, neg_files, neg_data"
   ]
  },
  {
   "cell_type": "code",
   "execution_count": null,
   "metadata": {},
   "outputs": [],
   "source": [
    "pos_files, pos_data, neg_files, neg_data = prep_organize_data()"
   ]
  },
  {
   "cell_type": "code",
   "execution_count": null,
   "metadata": {},
   "outputs": [],
   "source": [
    "#columns for dataframe\n",
    "cols = [\"ID\", \"Result\", \"Age\", \"Gender\", \"Date\", \"Extra\"]\n",
    "\n",
    "#creating the dataframe\n",
    "df_neg = pd.DataFrame([x.split(\"_\") for x in neg_files])\n",
    "df_pos = pd.DataFrame([x.split(\"_\") for x in pos_files])\n",
    "\n",
    "#joining and cleaning of datatypes\n",
    "df_all = df_neg.append(df_pos)\n",
    "df_all.columns = cols\n",
    "df_all.drop([\"Extra\", \"Date\"],axis=1, inplace=True)\n",
    "df_all['ID'] = df_all['ID'].astype('int')\n",
    "df_all['Age'] = df_all['Age'].astype('int')"
   ]
  },
  {
   "cell_type": "code",
   "execution_count": null,
   "metadata": {},
   "outputs": [],
   "source": [
    "def plotting_dfs():\n",
    "    a = sns.catplot(x='Result', y='Age', col='Gender', data=df_all, alpha=0.5)\n",
    "    plt.subplots_adjust(top=0.9)\n",
    "    a.fig.suptitle(\"Figure 1. COVID-19 Testing by Age and Gender\");\n",
    "    #plt.savefig(\"Fig1_SwarmPlot_Result_Age_Gender.png\")\n",
    "\n",
    "    sns.barplot(x='Result', y='Age', data=df_all);\n",
    "    plt.title(\"Figure 2. COVID-19 Result by Age\")\n",
    "    #plt.savefig(\"Fig2_Barplot_Result_Age.png\")"
   ]
  },
  {
   "cell_type": "code",
   "execution_count": null,
   "metadata": {},
   "outputs": [],
   "source": [
    "#Working with audio --> Returns np array of audio \n",
    "\n",
    "x, sr = librosa.load(neg_data[4],sr = 44100)\n",
    "#y, sr1 = librosa.load(pos_data[4], sr=44100) #visualize a positive_data point for comparisson \n",
    "\n",
    "#Visualizing the audio \n",
    "plt.figure(figsize=(14,5))\n",
    "librosa.display.waveplot(x, sr=sr);"
   ]
  },
  {
   "cell_type": "code",
   "execution_count": null,
   "metadata": {},
   "outputs": [],
   "source": [
    "#spectrogram -> heatmap, strength of signal over time \n",
    "x, sr = librosa.load(pos_data[4],sr = 44100)\n",
    "X = librosa.stft(x)\n",
    "Xdb = librosa.amplitude_to_db(abs(X))\n",
    "plt.figure(figsize=(14,5))\n",
    "librosa.display.specshow(Xdb, sr=sr, x_axis='time', y_axis='hz')\n",
    "plt.colorbar();\n",
    "#plt.savefig(f\"Fig3_Spectrogram_582.png\")"
   ]
  },
  {
   "cell_type": "code",
   "execution_count": null,
   "metadata": {},
   "outputs": [],
   "source": [
    "#feature extraction\n",
    "\n",
    "#Spectral Centroid -> frequency at which energy of a spectrum is centered upon. Similar to a weighted mean\n",
    "\n",
    "x, sr = librosa.load(pos_data[6],sr = 44100)\n",
    "spectral_centroids = librosa.feature.spectral_centroid(x, sr=sr)[0]\n",
    "plt.figure(figsize=(14, 5))\n",
    "frames = range(len(spectral_centroids))\n",
    "t = librosa.frames_to_time(frames)\n",
    "\n",
    "#normalize the data \n",
    "def normalize(x, axis=0):\n",
    "    return sklearn.preprocessing.minmax_scale(x, axis=axis)\n",
    "\n",
    "librosa.display.waveplot(x, sr=sr, alpha=0.4)\n",
    "plt.plot(t, normalize(spectral_centroids), color='r');"
   ]
  },
  {
   "cell_type": "code",
   "execution_count": null,
   "metadata": {},
   "outputs": [],
   "source": [
    "#creating a function to create spectrograms for all the samples \n",
    "def spectrogram_from_wav():\n",
    "    results = ['positive', 'negative']\n",
    "    for res in results: \n",
    "        pathlib.Path(f\"spectrograms/{res}\").mkdir(parents=True, exist_ok=True)\n",
    "        for files in os.listdir(f\"data/{res}\"):\n",
    "            filename = f\"data/{res}/{files}\"\n",
    "            x, sr = librosa.load(filename, mono=True)\n",
    "            plt.specgram(x, NFFT=2048, Fs=2, Fc=0, noverlap=128, cmap='inferno', sides='default', mode='default', scale='dB');\n",
    "            plt.axis('off');\n",
    "            plt.savefig(f\"spectrograms/{res}/{files[:-4]}.png\")\n",
    "            plt.clf()"
   ]
  },
  {
   "cell_type": "code",
   "execution_count": null,
   "metadata": {},
   "outputs": [],
   "source": [
    "#run once!\n",
    "#spectrogram_from_wav()"
   ]
  },
  {
   "cell_type": "code",
   "execution_count": null,
   "metadata": {},
   "outputs": [],
   "source": [
    "#writing the data to a CSV\n",
    "def write_to_csv(filename='covid_dataset.csv'):\n",
    "    \n",
    "    #Create the header for the CSV File \n",
    "    header = 'filename ID chroma_stft rmse spectral_centroid spectral_bandwidth rolloff zero_crossing_rate'\n",
    "    for x in range(1, 21):\n",
    "        header += f\" mfcc{x}\"\n",
    "    header += ' label'\n",
    "    header = header.split()\n",
    "    #create and write to file\n",
    "    file = open(filename, 'w', newline=\"\")\n",
    "    with file: \n",
    "        writer = csv.writer(file)\n",
    "        writer.writerow(header)\n",
    "    results = ['positive', 'negative']\n",
    "    for res in results: \n",
    "        for files in os.listdir(f\"data/{res}\"):\n",
    "            patient_id = files.split(\"_\")[0]\n",
    "            filename = f\"data/{res}/{files}\"\n",
    "            x, sr = librosa.load(filename, mono=True)\n",
    "            rmse = librosa.feature.rms(y=x)\n",
    "            chroma_stft = librosa.feature.chroma_stft(y=x, sr=sr)\n",
    "            spec_cent = librosa.feature.spectral_centroid(y=x, sr=sr)\n",
    "            spec_bw = librosa.feature.spectral_bandwidth(y=x, sr=sr)\n",
    "            rolloff = librosa.feature.spectral_rolloff(y=x, sr=sr)\n",
    "            zcr = librosa.feature.zero_crossing_rate(x)\n",
    "            mfcc = librosa.feature.mfcc(y=x, sr=sr)\n",
    "            to_append = f'{filename} {patient_id} {np.mean(chroma_stft)} {np.mean(rmse)} {np.mean(spec_cent)} {np.mean(spec_bw)} {np.mean(rolloff)} {np.mean(zcr)}'    \n",
    "            for e in mfcc:\n",
    "                to_append += f' {np.mean(e)}'\n",
    "            to_append += f' {res}'\n",
    "            file = open(filename, 'a', newline='')\n",
    "            with file:\n",
    "                writer = csv.writer(file)\n",
    "                writer.writerow(to_append.split())"
   ]
  },
  {
   "cell_type": "code",
   "execution_count": null,
   "metadata": {},
   "outputs": [],
   "source": [
    "df = pd.read_csv(\"covid_dataset.csv\")\n",
    "df.drop([\"filename\"], axis=1, inplace=True)"
   ]
  },
  {
   "cell_type": "code",
   "execution_count": null,
   "metadata": {},
   "outputs": [],
   "source": []
  }
 ],
 "metadata": {
  "kernelspec": {
   "display_name": "Python 3",
   "language": "python",
   "name": "python3"
  },
  "language_info": {
   "codemirror_mode": {
    "name": "ipython",
    "version": 3
   },
   "file_extension": ".py",
   "mimetype": "text/x-python",
   "name": "python",
   "nbconvert_exporter": "python",
   "pygments_lexer": "ipython3",
   "version": "3.8.5"
  }
 },
 "nbformat": 4,
 "nbformat_minor": 4
}

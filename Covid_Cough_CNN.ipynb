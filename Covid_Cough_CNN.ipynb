{
 "cells": [
  {
   "cell_type": "code",
   "execution_count": 1,
   "metadata": {},
   "outputs": [],
   "source": [
    "import keras\n",
    "import tensorflow as tf \n",
    "from keras.preprocessing.image import ImageDataGenerator, array_to_img, img_to_array, load_img\n",
    "\n",
    "from keras.models import Sequential \n",
    "from keras.layers import Conv2D, MaxPooling2D\n",
    "from keras.layers import Activation, Dropout, Flatten, Dense\n",
    "from keras import backend as K\n",
    "\n",
    "import matplotlib.pyplot as plt\n",
    "import numpy as np \n",
    "import pandas as pd"
   ]
  },
  {
   "cell_type": "code",
   "execution_count": 2,
   "metadata": {},
   "outputs": [],
   "source": [
    "#setting the dimensions\n",
    "img_width, img_height = 288, 432\n",
    "\n",
    "#directories with the data\n",
    "train_data_dir = \"./spec_data/train\"\n",
    "val_data_dir = \"./spec_data/val\"\n",
    "\n",
    "#some model params\n",
    "num_val_data = 95\n",
    "num_train_data = 373\n",
    "epochs = 100 \n",
    "batch_size = 32\n",
    "\n",
    "#input shape for the model layer 0\n",
    "input_shape = (img_width, img_height, 3)"
   ]
  },
  {
   "cell_type": "code",
   "execution_count": 3,
   "metadata": {},
   "outputs": [],
   "source": [
    "datagen = ImageDataGenerator(\n",
    "                             shear_range = 0.2, \n",
    "                             zoom_range = 0.1, \n",
    "                             horizontal_flip=False, \n",
    "                             fill_mode = 'nearest')"
   ]
  },
  {
   "cell_type": "code",
   "execution_count": 4,
   "metadata": {},
   "outputs": [
    {
     "data": {
      "text/plain": [
       "'channels_last'"
      ]
     },
     "execution_count": 4,
     "metadata": {},
     "output_type": "execute_result"
    }
   ],
   "source": [
    "#Here it is as channel_last so we have W x H x RGB\n",
    "K.image_data_format()"
   ]
  },
  {
   "cell_type": "code",
   "execution_count": 5,
   "metadata": {},
   "outputs": [],
   "source": [
    "#ConvNet\n",
    "#input layer\n",
    "model = Sequential()\n",
    "model.add(Conv2D(32, (3, 3), input_shape=input_shape))\n",
    "model.add(Activation('relu'))\n",
    "model.add(MaxPooling2D(pool_size=(2, 2)))\n",
    "\n",
    "#first hidden layer \n",
    "model.add(Conv2D(32, (3, 3)))\n",
    "model.add(Activation('relu'))\n",
    "model.add(MaxPooling2D(pool_size=(2, 2)))\n",
    "\n",
    "#second hidden layer\n",
    "model.add(Conv2D(64, (3, 3)))\n",
    "model.add(Activation('relu'))\n",
    "model.add(MaxPooling2D(pool_size=(2, 2)))\n",
    "\n",
    "#output layer\n",
    "model.add(Flatten())\n",
    "model.add(Dense(64))\n",
    "model.add(Activation('relu'))\n",
    "model.add(Dropout(0.5))\n",
    "model.add(Dense(1))\n",
    "model.add(Activation('sigmoid'))"
   ]
  },
  {
   "cell_type": "code",
   "execution_count": 7,
   "metadata": {},
   "outputs": [
    {
     "name": "stdout",
     "output_type": "stream",
     "text": [
      "Model: \"sequential\"\n",
      "_________________________________________________________________\n",
      "Layer (type)                 Output Shape              Param #   \n",
      "=================================================================\n",
      "conv2d (Conv2D)              (None, 286, 430, 32)      896       \n",
      "_________________________________________________________________\n",
      "activation (Activation)      (None, 286, 430, 32)      0         \n",
      "_________________________________________________________________\n",
      "max_pooling2d (MaxPooling2D) (None, 143, 215, 32)      0         \n",
      "_________________________________________________________________\n",
      "conv2d_1 (Conv2D)            (None, 141, 213, 32)      9248      \n",
      "_________________________________________________________________\n",
      "activation_1 (Activation)    (None, 141, 213, 32)      0         \n",
      "_________________________________________________________________\n",
      "max_pooling2d_1 (MaxPooling2 (None, 70, 106, 32)       0         \n",
      "_________________________________________________________________\n",
      "conv2d_2 (Conv2D)            (None, 68, 104, 64)       18496     \n",
      "_________________________________________________________________\n",
      "activation_2 (Activation)    (None, 68, 104, 64)       0         \n",
      "_________________________________________________________________\n",
      "max_pooling2d_2 (MaxPooling2 (None, 34, 52, 64)        0         \n",
      "_________________________________________________________________\n",
      "flatten (Flatten)            (None, 113152)            0         \n",
      "_________________________________________________________________\n",
      "dense (Dense)                (None, 64)                7241792   \n",
      "_________________________________________________________________\n",
      "activation_3 (Activation)    (None, 64)                0         \n",
      "_________________________________________________________________\n",
      "dropout (Dropout)            (None, 64)                0         \n",
      "_________________________________________________________________\n",
      "dense_1 (Dense)              (None, 1)                 65        \n",
      "_________________________________________________________________\n",
      "activation_4 (Activation)    (None, 1)                 0         \n",
      "=================================================================\n",
      "Total params: 7,270,497\n",
      "Trainable params: 7,270,497\n",
      "Non-trainable params: 0\n",
      "_________________________________________________________________\n"
     ]
    }
   ],
   "source": [
    "model.summary()"
   ]
  },
  {
   "cell_type": "code",
   "execution_count": 8,
   "metadata": {},
   "outputs": [],
   "source": [
    "model.compile(loss='binary_crossentropy',\n",
    "              optimizer='rmsprop',\n",
    "              metrics=['accuracy'])"
   ]
  },
  {
   "cell_type": "code",
   "execution_count": 9,
   "metadata": {},
   "outputs": [],
   "source": [
    "#Setting the generators \n",
    "train_gen = ImageDataGenerator(rescale=1./255, shear_range=0.2, zoom_range=0.05, horizontal_flip=False)\n",
    "\n",
    "test_gen = ImageDataGenerator(rescale=1./255)"
   ]
  },
  {
   "cell_type": "code",
   "execution_count": 10,
   "metadata": {},
   "outputs": [
    {
     "name": "stdout",
     "output_type": "stream",
     "text": [
      "Found 373 images belonging to 2 classes.\n",
      "Found 95 images belonging to 2 classes.\n"
     ]
    }
   ],
   "source": [
    "train_generator = train_gen.flow_from_directory(\n",
    "    train_data_dir,\n",
    "    target_size=(img_width, img_height),\n",
    "    batch_size=batch_size,\n",
    "    class_mode='binary')\n",
    "\n",
    "validation_generator = test_gen.flow_from_directory(\n",
    "    val_data_dir,\n",
    "    target_size=(img_width, img_height),\n",
    "    batch_size=batch_size,\n",
    "    class_mode='binary')"
   ]
  },
  {
   "cell_type": "code",
   "execution_count": null,
   "metadata": {},
   "outputs": [
    {
     "name": "stdout",
     "output_type": "stream",
     "text": [
      "Epoch 1/100\n",
      "11/11 [==============================] - 50s 5s/step - loss: 0.6266 - accuracy: 0.8387 - val_loss: 0.2580 - val_accuracy: 0.9219\n",
      "Epoch 2/100\n",
      "11/11 [==============================] - 48s 4s/step - loss: 0.4038 - accuracy: 0.9179 - val_loss: 0.2546 - val_accuracy: 0.9219\n",
      "Epoch 3/100\n",
      "11/11 [==============================] - 47s 4s/step - loss: 0.2833 - accuracy: 0.9208 - val_loss: 0.3291 - val_accuracy: 0.9062\n",
      "Epoch 4/100\n",
      "11/11 [==============================] - 51s 5s/step - loss: 0.5357 - accuracy: 0.9355 - val_loss: 0.2452 - val_accuracy: 0.9531\n",
      "Epoch 5/100\n",
      " 1/11 [=>............................] - ETA: 0s - loss: 0.2882 - accuracy: 0.9062"
     ]
    }
   ],
   "source": [
    "model_conv = model.fit(train_generator,\n",
    "                        steps_per_epoch=num_train_data // batch_size,\n",
    "                        epochs=epochs,\n",
    "                        validation_data=validation_generator,\n",
    "                        validation_steps=num_val_data // batch_size)"
   ]
  },
  {
   "cell_type": "code",
   "execution_count": null,
   "metadata": {},
   "outputs": [],
   "source": [
    "def plot_metrics(model_conv):\n",
    "    range_list = list(range(epochs))\n",
    "    for m in model_conv.history.keys():\n",
    "        plt.figure(figsize=(20,5), dpi=180)\n",
    "        plt.plot(range_list, model_conv.history[m])\n",
    "        plt.title(f\"{m.upper()} for {epochs} Epochs using convnet\")\n",
    "        plt.xlabel(\"Epochs\")\n",
    "        plt.ylabel(f\"{m.upper()}\");"
   ]
  },
  {
   "cell_type": "code",
   "execution_count": null,
   "metadata": {},
   "outputs": [],
   "source": [
    "plot_metrics(model_conv);"
   ]
  }
 ],
 "metadata": {
  "kernelspec": {
   "display_name": "Python 3",
   "language": "python",
   "name": "python3"
  },
  "language_info": {
   "codemirror_mode": {
    "name": "ipython",
    "version": 3
   },
   "file_extension": ".py",
   "mimetype": "text/x-python",
   "name": "python",
   "nbconvert_exporter": "python",
   "pygments_lexer": "ipython3",
   "version": "3.8.5"
  }
 },
 "nbformat": 4,
 "nbformat_minor": 4
}
